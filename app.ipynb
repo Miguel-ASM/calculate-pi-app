{
 "cells": [
  {
   "cell_type": "code",
   "execution_count": 1,
   "metadata": {
    "ExecuteTime": {
     "end_time": "2020-09-21T16:50:20.722944Z",
     "start_time": "2020-09-21T16:50:20.714006Z"
    }
   },
   "outputs": [],
   "source": [
    "import sys\n",
    "import os"
   ]
  },
  {
   "cell_type": "code",
   "execution_count": 2,
   "metadata": {
    "ExecuteTime": {
     "end_time": "2020-09-21T16:50:20.732451Z",
     "start_time": "2020-09-21T16:50:20.726762Z"
    }
   },
   "outputs": [],
   "source": [
    "sys.path.insert(0,os.path.join(os.getcwd(),'calculate-pi-app/'))"
   ]
  },
  {
   "cell_type": "code",
   "execution_count": 3,
   "metadata": {
    "ExecuteTime": {
     "end_time": "2020-09-21T16:50:21.164197Z",
     "start_time": "2020-09-21T16:50:20.734739Z"
    }
   },
   "outputs": [],
   "source": [
    "import ipywidgets as ipw\n",
    "from IPython.display import display\n",
    "from appWidgets.archimedesWidget import returnArchimedesWidget\n",
    "from appWidgets.pebblesWidget import returnPebblessWidget"
   ]
  },
  {
   "cell_type": "code",
   "execution_count": 4,
   "metadata": {
    "ExecuteTime": {
     "end_time": "2020-09-21T16:50:21.666965Z",
     "start_time": "2020-09-21T16:50:21.166275Z"
    }
   },
   "outputs": [],
   "source": [
    "w_Archimedes = returnArchimedesWidget(10)\n",
    "w_Archimedes.layout.height = '750px'\n",
    "w_Archimedes.layout.justify_content = 'space-around'\n",
    "w_Archimedes.layout.align_items = 'center'"
   ]
  },
  {
   "cell_type": "code",
   "execution_count": 5,
   "metadata": {
    "ExecuteTime": {
     "end_time": "2020-09-21T16:50:22.132944Z",
     "start_time": "2020-09-21T16:50:21.672005Z"
    }
   },
   "outputs": [],
   "source": [
    "w_Montecarlo = returnPebblessWidget()\n",
    "w_Montecarlo.layout.height = '750px'\n",
    "w_Montecarlo.layout.justify_content = 'space-around'\n",
    "w_Montecarlo.layout.align_items = 'center'"
   ]
  },
  {
   "cell_type": "code",
   "execution_count": 6,
   "metadata": {
    "ExecuteTime": {
     "end_time": "2020-09-21T16:50:22.159078Z",
     "start_time": "2020-09-21T16:50:22.138214Z"
    }
   },
   "outputs": [],
   "source": [
    "w = ipw.VBox(\n",
    "    children = [\n",
    "        w_Archimedes,\n",
    "        w_Montecarlo\n",
    "    ]\n",
    ")"
   ]
  },
  {
   "cell_type": "code",
   "execution_count": 7,
   "metadata": {
    "ExecuteTime": {
     "end_time": "2020-09-21T16:50:22.177311Z",
     "start_time": "2020-09-21T16:50:22.163149Z"
    }
   },
   "outputs": [
    {
     "data": {
      "application/vnd.jupyter.widget-view+json": {
       "model_id": "32b31a02827c420cbf5a97b0387a1155",
       "version_major": 2,
       "version_minor": 0
      },
      "text/plain": [
       "VBox(children=(HBox(children=(Output(), VBox(children=(IntSlider(value=0, description='n', max=10), Output()),…"
      ]
     },
     "metadata": {},
     "output_type": "display_data"
    }
   ],
   "source": [
    "display(w)"
   ]
  },
  {
   "cell_type": "markdown",
   "metadata": {},
   "source": [
    "<link rel=\"stylesheet\" href=\"https://maxcdn.bootstrapcdn.com/bootstrap/4.0.0/css/bootstrap.min.css\" integrity=\"sha384-Gn5384xqQ1aoWXA+058RXPxPg6fy4IWvTNh0E263XmFcJlSAwiGgFAW/dAiS6JXm\" crossorigin=\"anonymous\">"
   ]
  }
 ],
 "metadata": {
  "kernelspec": {
   "display_name": "Python 3",
   "language": "python",
   "name": "python3"
  },
  "language_info": {
   "codemirror_mode": {
    "name": "ipython",
    "version": 3
   },
   "file_extension": ".py",
   "mimetype": "text/x-python",
   "name": "python",
   "nbconvert_exporter": "python",
   "pygments_lexer": "ipython3",
   "version": "3.8.5"
  },
  "latex_envs": {
   "LaTeX_envs_menu_present": false,
   "autoclose": false,
   "autocomplete": false,
   "bibliofile": "biblio.bib",
   "cite_by": "apalike",
   "current_citInitial": 1,
   "eqLabelWithNumbers": true,
   "eqNumInitial": 1,
   "hotkeys": {
    "equation": "Ctrl-E",
    "itemize": "Ctrl-I"
   },
   "labels_anchors": false,
   "latex_user_defs": false,
   "report_style_numbering": false,
   "user_envs_cfg": false
  },
  "toc": {
   "base_numbering": 1,
   "nav_menu": {},
   "number_sections": true,
   "sideBar": true,
   "skip_h1_title": true,
   "title_cell": "Table of Contents",
   "title_sidebar": "Contents",
   "toc_cell": false,
   "toc_position": {},
   "toc_section_display": true,
   "toc_window_display": false
  }
 },
 "nbformat": 4,
 "nbformat_minor": 4
}
