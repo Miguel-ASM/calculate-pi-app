{
 "cells": [
  {
   "cell_type": "code",
   "execution_count": 1,
   "metadata": {
    "ExecuteTime": {
     "end_time": "2020-09-22T09:49:37.191047Z",
     "start_time": "2020-09-22T09:49:37.182953Z"
    }
   },
   "outputs": [],
   "source": [
    "import sys\n",
    "import os"
   ]
  },
  {
   "cell_type": "code",
   "execution_count": 2,
   "metadata": {
    "ExecuteTime": {
     "end_time": "2020-09-22T09:49:37.199776Z",
     "start_time": "2020-09-22T09:49:37.193769Z"
    }
   },
   "outputs": [],
   "source": [
    "sys.path.insert(0,os.path.join(os.getcwd(),'calculate-pi-app/'))"
   ]
  },
  {
   "cell_type": "code",
   "execution_count": 3,
   "metadata": {
    "ExecuteTime": {
     "end_time": "2020-09-22T09:49:37.625119Z",
     "start_time": "2020-09-22T09:49:37.203248Z"
    }
   },
   "outputs": [],
   "source": [
    "import ipywidgets as ipw\n",
    "from IPython.display import display\n",
    "from appWidgets.pebblesWidget import returnPebblessWidget\n",
    "from appWidgets.archimedesWidget import returnArchimedesWidget"
   ]
  },
  {
   "cell_type": "code",
   "execution_count": 4,
   "metadata": {
    "ExecuteTime": {
     "end_time": "2020-09-22T09:49:38.021678Z",
     "start_time": "2020-09-22T09:49:37.627504Z"
    }
   },
   "outputs": [],
   "source": [
    "w_Archimedes = returnArchimedesWidget(10)\n",
    "w_Archimedes.layout.height = '650px'"
   ]
  },
  {
   "cell_type": "code",
   "execution_count": 6,
   "metadata": {
    "ExecuteTime": {
     "end_time": "2020-09-22T09:50:33.828654Z",
     "start_time": "2020-09-22T09:50:33.493263Z"
    }
   },
   "outputs": [],
   "source": [
    "w_Montecarlo = returnPebblessWidget()\n",
    "w_Montecarlo.layout.height = '650px'"
   ]
  },
  {
   "cell_type": "markdown",
   "metadata": {},
   "source": [
    "<div class=\"container container-fluid mx-auto\">\n",
    "    <h1>Why is the number $\\pi$ equal to 3.14... ?</h1>\n",
    "</div> \n",
    "<span></span><br><br><br>"
   ]
  },
  {
   "cell_type": "markdown",
   "metadata": {},
   "source": []
  },
  {
   "cell_type": "markdown",
   "metadata": {
    "ExecuteTime": {
     "end_time": "2020-09-22T09:18:43.440569Z",
     "start_time": "2020-09-22T09:18:43.427891Z"
    }
   },
   "source": [
    "<div class=\"container container-fluid\">\n",
    "    <div class=\"jumbotron\">\n",
    "        <h2>Approximate $\\pi$ like Archimedes</h2>\n",
    "        <p>\n",
    "            In school we have been taught that the length $l$ (circumference)\n",
    "            of a circle of radius $r$ is equal to $2\\pi r$. If we have a \n",
    "            circle of radius $r=1$ we can use this formula to calculate pi\n",
    "            as $\\pi = \\frac{l}{2\\pi}$. But how do we measure the length of the\n",
    "            circle? What Archimedes did was to approximate the perimeter of the circle\n",
    "            with polygons, which sides we can measure because they are straight lines. First,\n",
    "            he started with a square, then he doubled the number of sizes and so on...\n",
    "        </p>\n",
    "        <p>\n",
    "            As he increased the number of sides, the total perimeter of the polygon would get\n",
    "            closer to the circumference of the circle, and therefore to the value of $\\pi$\n",
    "        </p>\n",
    "        <hr class=\"my-4\">\n",
    "        <div class = \"mx-auto align-items-center\">\n",
    "            <div class=\"alert alert-info\">\n",
    "                    <h3>Want to see it?</h3>\n",
    "            <div>\n",
    "            <span></span>\n",
    "            <p>\n",
    "                Play with the following widget. See what happens when you move the slider.\n",
    "            </p>\n",
    "        </div>\n",
    "    </div>\n",
    "</div> "
   ]
  },
  {
   "cell_type": "code",
   "execution_count": 5,
   "metadata": {
    "ExecuteTime": {
     "end_time": "2020-09-22T09:49:38.034458Z",
     "start_time": "2020-09-22T09:49:38.025079Z"
    }
   },
   "outputs": [
    {
     "data": {
      "application/vnd.jupyter.widget-view+json": {
       "model_id": "6971963e67a540e39be666cd6377193d",
       "version_major": 2,
       "version_minor": 0
      },
      "text/plain": [
       "HBox(children=(Output(), VBox(children=(IntSlider(value=0, description='n', max=10), Output()), layout=Layout(…"
      ]
     },
     "metadata": {},
     "output_type": "display_data"
    }
   ],
   "source": [
    "display(w_Archimedes)"
   ]
  },
  {
   "cell_type": "code",
   "execution_count": 7,
   "metadata": {
    "ExecuteTime": {
     "end_time": "2020-09-22T09:50:40.608285Z",
     "start_time": "2020-09-22T09:50:40.595796Z"
    }
   },
   "outputs": [
    {
     "data": {
      "application/vnd.jupyter.widget-view+json": {
       "model_id": "631426fa54264987bd453600f9e1b3ec",
       "version_major": 2,
       "version_minor": 0
      },
      "text/plain": [
       "HBox(children=(Output(outputs=({'output_type': 'display_data', 'data': {'text/plain': '<Figure size 576x576 wi…"
      ]
     },
     "metadata": {},
     "output_type": "display_data"
    }
   ],
   "source": [
    "display(w_Montecarlo)"
   ]
  },
  {
   "cell_type": "markdown",
   "metadata": {},
   "source": [
    "<link rel=\"stylesheet\" href=\"https://maxcdn.bootstrapcdn.com/bootstrap/4.0.0/css/bootstrap.min.css\" integrity=\"sha384-Gn5384xqQ1aoWXA+058RXPxPg6fy4IWvTNh0E263XmFcJlSAwiGgFAW/dAiS6JXm\" crossorigin=\"anonymous\">"
   ]
  }
 ],
 "metadata": {
  "kernelspec": {
   "display_name": "Python 3",
   "language": "python",
   "name": "python3"
  },
  "language_info": {
   "codemirror_mode": {
    "name": "ipython",
    "version": 3
   },
   "file_extension": ".py",
   "mimetype": "text/x-python",
   "name": "python",
   "nbconvert_exporter": "python",
   "pygments_lexer": "ipython3",
   "version": "3.8.5"
  },
  "latex_envs": {
   "LaTeX_envs_menu_present": false,
   "autoclose": false,
   "autocomplete": false,
   "bibliofile": "biblio.bib",
   "cite_by": "apalike",
   "current_citInitial": 1,
   "eqLabelWithNumbers": true,
   "eqNumInitial": 1,
   "hotkeys": {
    "equation": "Ctrl-E",
    "itemize": "Ctrl-I"
   },
   "labels_anchors": false,
   "latex_user_defs": false,
   "report_style_numbering": false,
   "user_envs_cfg": false
  },
  "toc": {
   "base_numbering": 1,
   "nav_menu": {},
   "number_sections": true,
   "sideBar": true,
   "skip_h1_title": true,
   "title_cell": "Table of Contents",
   "title_sidebar": "Contents",
   "toc_cell": false,
   "toc_position": {},
   "toc_section_display": true,
   "toc_window_display": false
  }
 },
 "nbformat": 4,
 "nbformat_minor": 4
}
