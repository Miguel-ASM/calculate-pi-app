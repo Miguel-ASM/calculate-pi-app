{
 "cells": [
  {
   "cell_type": "code",
   "execution_count": 1,
   "metadata": {
    "ExecuteTime": {
     "end_time": "2020-09-22T16:26:10.338820Z",
     "start_time": "2020-09-22T16:26:10.332502Z"
    }
   },
   "outputs": [],
   "source": [
    "import sys\n",
    "import os"
   ]
  },
  {
   "cell_type": "code",
   "execution_count": 2,
   "metadata": {
    "ExecuteTime": {
     "end_time": "2020-09-22T16:26:10.357105Z",
     "start_time": "2020-09-22T16:26:10.346465Z"
    }
   },
   "outputs": [],
   "source": [
    "sys.path.insert(0,os.path.join(os.getcwd(),'calculate-pi-app/'))"
   ]
  },
  {
   "cell_type": "code",
   "execution_count": 3,
   "metadata": {
    "ExecuteTime": {
     "end_time": "2020-09-22T16:26:10.796904Z",
     "start_time": "2020-09-22T16:26:10.362990Z"
    }
   },
   "outputs": [],
   "source": [
    "import ipywidgets as ipw\n",
    "from IPython.display import display\n",
    "from appWidgets.pebblesWidget import returnPebblessWidget\n",
    "from appWidgets.archimedesWidget import returnArchimedesWidget"
   ]
  },
  {
   "cell_type": "code",
   "execution_count": 4,
   "metadata": {
    "ExecuteTime": {
     "end_time": "2020-09-22T16:26:11.186278Z",
     "start_time": "2020-09-22T16:26:10.799692Z"
    }
   },
   "outputs": [],
   "source": [
    "w_Archimedes = returnArchimedesWidget(10)\n",
    "w_Archimedes.layout.height = '650px'"
   ]
  },
  {
   "cell_type": "code",
   "execution_count": 5,
   "metadata": {
    "ExecuteTime": {
     "end_time": "2020-09-22T16:26:11.469912Z",
     "start_time": "2020-09-22T16:26:11.188994Z"
    }
   },
   "outputs": [],
   "source": [
    "w_Montecarlo = returnPebblessWidget()\n",
    "w_Montecarlo.layout.height = '650px'"
   ]
  },
  {
   "cell_type": "markdown",
   "metadata": {},
   "source": [
    "<div style=\"background:transparent !important\">\n",
    "    <a href=\"https://github.com/Miguel-ASM/calculate-pi-app\">\n",
    "        <img style=\"float: left\" src=\"https://github.githubassets.com/images/modules/logos_page/GitHub-Mark.png\" width=\"60\" height=\"60\" alt=\"\">\n",
    "        <br><br>\n",
    "    <span>@Miguel-ASM</span>\n",
    "    </a>\n",
    "</div>\n",
    "<br><br>\n",
    "<div class=\"container container-fluid mx-auto\">\n",
    "    <h1>Why is the number $\\pi$ equal to 3.14... ?</h1>\n",
    "    <p class=\"lead\">\n",
    "        This app shows interactively two methods to approximate the value of $\\pi$.\n",
    "    </p>\n",
    "    <p class=\"lead\">\n",
    "        One of them is quite straightforward and was firstly used by Archimedes and it\n",
    "        basically consists in approximating the circle with polygons of known perimeter.\n",
    "    </p>\n",
    "    <p class=\"lead\">\n",
    "        The second method is a little bit more obscure, but I added it here because I think\n",
    "        it is really original. \n",
    "    </p>\n",
    "    <div class=\"alert alert-info text-center\" role=\"alert\">Lets go!</div>\n",
    "</div>"
   ]
  },
  {
   "cell_type": "markdown",
   "metadata": {},
   "source": []
  },
  {
   "cell_type": "markdown",
   "metadata": {
    "ExecuteTime": {
     "end_time": "2020-09-22T09:18:43.440569Z",
     "start_time": "2020-09-22T09:18:43.427891Z"
    }
   },
   "source": [
    "<div class=\"container container-fluid\">\n",
    "    <div class=\"jumbotron\">\n",
    "        <h2>Approximate $\\pi$ like Archimedes</h2>\n",
    "        <p>\n",
    "            In school we have been taught that the length $l$ (circumference)\n",
    "            of a circle of radius $r$ is equal to $2\\pi r$. If we have a \n",
    "            circle of radius $r=1$ we can use this formula to calculate pi\n",
    "            as $\\pi = \\frac{l}{2\\pi}$. But how do we measure the length of the\n",
    "            circle? What Archimedes did was to approximate the perimeter of the circle\n",
    "            with polygons, which sides we can measure because they are straight lines. First,\n",
    "            he started with a square, then he doubled the number of sizes and so on...\n",
    "        </p>\n",
    "        <p>\n",
    "            As he increased the number of sides, the total perimeter of the polygon would get\n",
    "            closer to the circumference of the circle, and therefore to the value of $\\pi$\n",
    "        </p>\n",
    "        <hr class=\"my-4\">\n",
    "        <div class = \"mx-auto align-items-center\">\n",
    "            <div class=\"alert alert-info\">\n",
    "                    <h3>Want to see it?</h3>\n",
    "            <div>\n",
    "            <span></span>\n",
    "            <p>\n",
    "                Play with the following widget. See what happens when you move the slider.\n",
    "            </p>\n",
    "        </div>\n",
    "    </div>\n",
    "</div> "
   ]
  },
  {
   "cell_type": "code",
   "execution_count": 6,
   "metadata": {
    "ExecuteTime": {
     "end_time": "2020-09-22T16:26:11.485392Z",
     "start_time": "2020-09-22T16:26:11.474001Z"
    }
   },
   "outputs": [
    {
     "data": {
      "application/vnd.jupyter.widget-view+json": {
       "model_id": "3c3023a1a2ec450da46740cd3edba5f7",
       "version_major": 2,
       "version_minor": 0
      },
      "text/plain": [
       "HBox(children=(Output(), VBox(children=(IntSlider(value=0, description='n', max=10), Output()), layout=Layout(…"
      ]
     },
     "metadata": {},
     "output_type": "display_data"
    }
   ],
   "source": [
    "display(w_Archimedes)"
   ]
  },
  {
   "cell_type": "markdown",
   "metadata": {},
   "source": [
    "<div class=\"container container-fluid\">\n",
    "    <div class=\"jumbotron\">\n",
    "        <h2>Approximate $\\pi$ value throwing pebbles to the floor</h2>\n",
    "        <p>\n",
    "            I propose you the following experiment. Suppose we have a square-shaped floor with a side $l=2$ that has a blue circle of radius $r=1$ inside like the one in the image\n",
    "        </p>\n",
    "        <br>\n",
    "        <img src=\"board.png\" style=\"margin:auto;display:block\" width=\"300\" alt=\"\">\n",
    "        <br>\n",
    "        <p>\n",
    "            Imagine that we start throwing pebbles that will fall in random positions in the board. The pebbles are equally likely to fall in any spot in the floor. But what is the probability of a pebble to fall inside of the blue circle? This probability is equal to the quotient of the circle area $A_{circle}$ and the floor area $A_{floor}$. We have $A_{circle} = \\pi r^2 = \\pi$ and $A_{floor} = l^2 = 4$ and therefore, the probability of a pebble falling inside of the circle is $P_{inside} = \\pi / 4$. If we throw a big number of pebbles $N_{total}$ we can estimate that the number of pebbles that fall in the circle is $N_{inside} = P_{inside} N_{total} = \\pi  N_{total} / 4$. Therefore we can throw a lot of pebbles and count how many of them fall inside of the blue circle to stimate the value of $\\pi$ as\n",
    "        </p>\n",
    "        <p style=\"text-align:center\">\n",
    "            $\\pi \\approx 4 N_{inside}/N_{total}$\n",
    "        </p>\n",
    "        <hr class=\"my-4\">\n",
    "        <div class = \"mx-auto align-items-center\">\n",
    "            <div class=\"alert alert-info\">\n",
    "                    <h3>Want to see it?</h3>\n",
    "            <div>\n",
    "            <span></span>\n",
    "            <p>\n",
    "                Play with the following widget. Throw pebbles to the floor clicking the button and see how the estimated value of $\\pi$ approximates the real one. Use the dropdown to select how many pebbles are thrown at once.\n",
    "            </p>\n",
    "        </div>\n",
    "    </div>\n",
    "</div> "
   ]
  },
  {
   "cell_type": "code",
   "execution_count": 7,
   "metadata": {
    "ExecuteTime": {
     "end_time": "2020-09-22T16:26:11.543723Z",
     "start_time": "2020-09-22T16:26:11.490704Z"
    }
   },
   "outputs": [
    {
     "data": {
      "application/vnd.jupyter.widget-view+json": {
       "model_id": "662c6b4c30a8414fbec87eeb0bc09d2a",
       "version_major": 2,
       "version_minor": 0
      },
      "text/plain": [
       "HBox(children=(Output(), VBox(children=(VBox(children=(Dropdown(description='New Points:', options=(1, 10, 100…"
      ]
     },
     "metadata": {},
     "output_type": "display_data"
    }
   ],
   "source": [
    "display(w_Montecarlo)"
   ]
  },
  {
   "cell_type": "markdown",
   "metadata": {},
   "source": [
    "<link rel=\"stylesheet\" href=\"https://maxcdn.bootstrapcdn.com/bootstrap/4.0.0/css/bootstrap.min.css\" integrity=\"sha384-Gn5384xqQ1aoWXA+058RXPxPg6fy4IWvTNh0E263XmFcJlSAwiGgFAW/dAiS6JXm\" crossorigin=\"anonymous\">"
   ]
  }
 ],
 "metadata": {
  "kernelspec": {
   "display_name": "Python 3",
   "language": "python",
   "name": "python3"
  },
  "language_info": {
   "codemirror_mode": {
    "name": "ipython",
    "version": 3
   },
   "file_extension": ".py",
   "mimetype": "text/x-python",
   "name": "python",
   "nbconvert_exporter": "python",
   "pygments_lexer": "ipython3",
   "version": "3.8.5"
  },
  "latex_envs": {
   "LaTeX_envs_menu_present": false,
   "autoclose": false,
   "autocomplete": false,
   "bibliofile": "biblio.bib",
   "cite_by": "apalike",
   "current_citInitial": 1,
   "eqLabelWithNumbers": true,
   "eqNumInitial": 1,
   "hotkeys": {
    "equation": "Ctrl-E",
    "itemize": "Ctrl-I"
   },
   "labels_anchors": false,
   "latex_user_defs": false,
   "report_style_numbering": false,
   "user_envs_cfg": false
  },
  "toc": {
   "base_numbering": 1,
   "nav_menu": {},
   "number_sections": true,
   "sideBar": true,
   "skip_h1_title": true,
   "title_cell": "Table of Contents",
   "title_sidebar": "Contents",
   "toc_cell": false,
   "toc_position": {},
   "toc_section_display": true,
   "toc_window_display": false
  }
 },
 "nbformat": 4,
 "nbformat_minor": 4
}
